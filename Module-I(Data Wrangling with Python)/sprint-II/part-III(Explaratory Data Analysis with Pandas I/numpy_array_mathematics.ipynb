{
 "cells": [
  {
   "cell_type": "markdown",
   "metadata": {},
   "source": [
    "#Task Description\n",
    "You are given two integer arrays, A, and B of dimensions NXM. <br>\n",
    "Your task is to perform the following operations <br>\n",
    "<ol>\n",
    "    <li>Add(A + B)</li>\n",
    "    <li>Substart(A-B)</li>\n",
    "    <li>Multiply(A*B)</li>\n",
    "    <li>Division(A//B)</li>\n",
    "    <li>Mod(A%B)</li>\n",
    "    <li>Power(A**B)</li>\n",
    "<ol>"
   ]
  },
  {
   "cell_type": "markdown",
   "metadata": {},
   "source": [
    "#Input format\n",
    "The first line contains two space separated integers, n and m. <br>\n",
    "The next lines contains space separated integers of array m. <br>\n",
    "The following lines contains space separated integers of array . <br>"
   ]
  },
  {
   "cell_type": "code",
   "execution_count": null,
   "metadata": {},
   "outputs": [],
   "source": [
    "import numpy as np\n",
    "\n",
    "n, m  = map(int, input().split())\n",
    "A, B = [], []\n",
    "for _ in range(n):\n",
    "    A.append(list(map(int, input().split())))\n",
    "for _ in range(n):\n",
    "    B.append(list(map(int, input().split())))\n",
    "    \n",
    "np.add(A, B)\n",
    "np.subtract(A, B)\n",
    "np.multiply(A, B)\n",
    "np.floor_divide(A, B)\n",
    "np.mod(A, B)\n",
    "np.power(A, B)"
   ]
  }
 ],
 "metadata": {
  "interpreter": {
   "hash": "ead1b95f633dc9c51826328e1846203f51a198c6fb5f2884a80417ba131d4e82"
  },
  "kernelspec": {
   "display_name": "Python 3.11.0b1 64-bit",
   "language": "python",
   "name": "python3"
  },
  "language_info": {
   "name": "python",
   "version": "3.11.0"
  },
  "orig_nbformat": 4
 },
 "nbformat": 4,
 "nbformat_minor": 2
}
