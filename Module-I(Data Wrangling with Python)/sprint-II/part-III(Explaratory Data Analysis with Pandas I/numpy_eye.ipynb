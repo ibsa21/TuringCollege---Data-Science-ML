{
 "cells": [
  {
   "cell_type": "markdown",
   "metadata": {},
   "source": [
    "# task\n",
    "print a array of size NxM with its main diagonal elements as 1's and 0's everywhere else\n",
    "\n",
    "## input format\n",
    "A single line containing the space separate values of N and M. <br>\n",
    "N denotes the rows <br>\n",
    "M denotes the columns"
   ]
  },
  {
   "cell_type": "code",
   "execution_count": null,
   "metadata": {},
   "outputs": [
    {
     "ename": "",
     "evalue": "",
     "output_type": "error",
     "traceback": [
      "\u001b[1;31mRunning cells with 'Python 3.11.0b1 64-bit' requires ipykernel package.\n",
      "Run the following command to install 'ipykernel' into the Python environment. \n",
      "Command: '/bin/python3.11 -m pip install ipykernel -U --user --force-reinstall'"
     ]
    }
   ],
   "source": [
    "import numpy as np\n",
    "np.set_printoptions(legacy = '1.13')\n",
    "n, m = map(int, input().split())\n",
    "np.eye(n, m)"
   ]
  }
 ],
 "metadata": {
  "interpreter": {
   "hash": "ead1b95f633dc9c51826328e1846203f51a198c6fb5f2884a80417ba131d4e82"
  },
  "kernelspec": {
   "display_name": "Python 3.11.0b1 64-bit",
   "language": "python",
   "name": "python3"
  },
  "language_info": {
   "name": "python",
   "version": "3.11.0"
  },
  "orig_nbformat": 4
 },
 "nbformat": 4,
 "nbformat_minor": 2
}
